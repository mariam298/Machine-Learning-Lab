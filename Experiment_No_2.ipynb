{
  "nbformat": 4,
  "nbformat_minor": 0,
  "metadata": {
    "colab": {
      "provenance": []
    },
    "kernelspec": {
      "name": "python3",
      "display_name": "Python 3"
    },
    "language_info": {
      "name": "python"
    }
  },
  "cells": [
    {
      "cell_type": "code",
      "execution_count": 1,
      "metadata": {
        "id": "JFvKI2dPnyyS"
      },
      "outputs": [],
      "source": [
        "import pandas as pd\n",
        "from sklearn.model_selection import train_test_split\n",
        "from sklearn.preprocessing import LabelEncoder\n",
        "from sklearn.naive_bayes import GaussianNB\n",
        "from sklearn.metrics import accuracy_score\n"
      ]
    },
    {
      "cell_type": "code",
      "source": [
        "def naive_bayes_classifier(file_path, target_column, is_categorical=False):\n",
        "    # Load the dataset\n",
        "    data = pd.read_csv(file_path)\n",
        "\n",
        "    # Encode categorical data if necessary\n",
        "    label_encoders = {}\n",
        "    if is_categorical:\n",
        "        for column in data.columns:\n",
        "            if data[column].dtype == 'object' or column == target_column:\n",
        "                le = LabelEncoder()\n",
        "                data[column] = le.fit_transform(data[column])\n",
        "                label_encoders[column] = le\n",
        "\n",
        "    # Split dataset into features and target\n",
        "    X = data.drop(columns=[target_column])\n",
        "    y = data[target_column]\n",
        "\n",
        "    # Train-test split\n",
        "    X_train, X_test, y_train, y_test = train_test_split(X, y, test_size=0.3, random_state=42)\n",
        "\n",
        "    # Train the Naive Bayes model\n",
        "    model = GaussianNB()\n",
        "    model.fit(X_train, y_train)\n",
        "\n",
        "    # Make predictions\n",
        "    y_pred = model.predict(X_test)\n",
        "\n",
        "    # Calculate accuracy\n",
        "    accuracy = accuracy_score(y_test, y_pred)\n",
        "    print(f\"Accuracy on dataset '{file_path}': {accuracy:.2f}\")\n",
        "\n",
        "    return model, label_encoders\n"
      ],
      "metadata": {
        "id": "fhGPJKgKoWO5"
      },
      "execution_count": 9,
      "outputs": []
    },
    {
      "cell_type": "code",
      "source": [
        "breast_cancer_file = \"breast-cancer.csv\"\n",
        "breast_cancer_target = \"diagnosis\"  # Target column in the dataset\n",
        "naive_bayes_classifier(breast_cancer_file, breast_cancer_target, is_categorical=False)\n"
      ],
      "metadata": {
        "colab": {
          "base_uri": "https://localhost:8080/"
        },
        "id": "2kkHrdsBocRM",
        "outputId": "2259030e-4427-4b45-9ed2-29f3834b0cc6"
      },
      "execution_count": 13,
      "outputs": [
        {
          "output_type": "stream",
          "name": "stdout",
          "text": [
            "Accuracy on dataset 'breast-cancer.csv': 0.64\n"
          ]
        },
        {
          "output_type": "execute_result",
          "data": {
            "text/plain": [
              "(GaussianNB(), {})"
            ]
          },
          "metadata": {},
          "execution_count": 13
        }
      ]
    },
    {
      "cell_type": "code",
      "source": [
        "import pandas as pd\n",
        "\n",
        "play_tennis_file = \"play_tennis.csv\"\n",
        "data = pd.read_csv(play_tennis_file)\n",
        "print(data.columns)\n"
      ],
      "metadata": {
        "colab": {
          "base_uri": "https://localhost:8080/"
        },
        "id": "enVbo4-Tp6kQ",
        "outputId": "505c85b3-a52e-4621-b283-7d4d508b8eb6"
      },
      "execution_count": 15,
      "outputs": [
        {
          "output_type": "stream",
          "name": "stdout",
          "text": [
            "Index(['day', 'outlook', 'temp', 'humidity', 'wind', 'play'], dtype='object')\n"
          ]
        }
      ]
    },
    {
      "cell_type": "code",
      "source": [
        "# Play Tennis Dataset\n",
        "print(\"Play Tennis Dataset:\")\n",
        "\n",
        "\n",
        "play_tennis_file = \"play_tennis.csv\"\n",
        "play_tennis_target = \"play\"\n",
        "# Run the Naive Bayes classifier\n",
        "naive_bayes_classifier(play_tennis_file, play_tennis_target, is_categorical=True)\n"
      ],
      "metadata": {
        "colab": {
          "base_uri": "https://localhost:8080/"
        },
        "id": "fDdyMmCHqTpj",
        "outputId": "aa9a664d-7d0f-43e5-bdd9-5eee9d3ab23a"
      },
      "execution_count": 16,
      "outputs": [
        {
          "output_type": "stream",
          "name": "stdout",
          "text": [
            "Play Tennis Dataset:\n",
            "Accuracy on dataset 'play_tennis.csv': 0.60\n"
          ]
        },
        {
          "output_type": "execute_result",
          "data": {
            "text/plain": [
              "(GaussianNB(),\n",
              " {'day': LabelEncoder(),\n",
              "  'outlook': LabelEncoder(),\n",
              "  'temp': LabelEncoder(),\n",
              "  'humidity': LabelEncoder(),\n",
              "  'wind': LabelEncoder(),\n",
              "  'play': LabelEncoder()})"
            ]
          },
          "metadata": {},
          "execution_count": 16
        }
      ]
    },
    {
      "cell_type": "code",
      "source": [
        "from sklearn.metrics import confusion_matrix, accuracy_score, precision_score, recall_score, f1_score\n"
      ],
      "metadata": {
        "id": "mwA8th3HqkSe"
      },
      "execution_count": 17,
      "outputs": []
    },
    {
      "cell_type": "code",
      "source": [
        "import pandas as pd\n",
        "from sklearn.model_selection import train_test_split\n",
        "from sklearn.naive_bayes import GaussianNB\n",
        "from sklearn.metrics import confusion_matrix, accuracy_score, precision_score, recall_score, f1_score\n",
        "from sklearn.preprocessing import LabelEncoder\n",
        "\n",
        "def naive_bayes_classifier(file_path, target_column, is_categorical=False):\n",
        "    # Load the dataset\n",
        "    data = pd.read_csv(file_path)\n",
        "\n",
        "    # Encode categorical data if necessary\n",
        "    label_encoders = {}\n",
        "    if is_categorical:\n",
        "        for column in data.columns:\n",
        "            if data[column].dtype == 'object' or column == target_column:\n",
        "                le = LabelEncoder()\n",
        "                data[column] = le.fit_transform(data[column])\n",
        "                label_encoders[column] = le\n",
        "\n",
        "    # Split dataset into features and target\n",
        "    X = data.drop(columns=[target_column])\n",
        "    y = data[target_column]\n",
        "\n",
        "    # Train-test split\n",
        "    X_train, X_test, y_train, y_test = train_test_split(X, y, test_size=0.3, random_state=42)\n",
        "\n",
        "    # Train the Naive Bayes model\n",
        "    model = GaussianNB()\n",
        "    model.fit(X_train, y_train)\n",
        "\n",
        "    # Make predictions\n",
        "    y_pred = model.predict(X_test)\n",
        "\n",
        "    # Calculate metrics\n",
        "    accuracy = accuracy_score(y_test, y_pred)\n",
        "    precision = precision_score(y_test, y_pred, average='binary')\n",
        "    recall = recall_score(y_test, y_pred, average='binary')\n",
        "    f1 = f1_score(y_test, y_pred, average='binary')\n",
        "    cm = confusion_matrix(y_test, y_pred)\n",
        "\n",
        "    # Print the results\n",
        "    print(f\"Confusion Matrix:\\n{cm}\")\n",
        "    print(f\"Accuracy: {accuracy:.2f}\")\n",
        "    print(f\"Precision: {precision:.2f}\")\n",
        "    print(f\"Recall: {recall:.2f}\")\n",
        "    print(f\"F1 Score: {f1:.2f}\")\n",
        "\n",
        "    return model, label_encoders\n",
        "\n",
        "# Play Tennis Dataset\n",
        "print(\"Play Tennis Dataset:\")\n",
        "play_tennis_file = \"play_tennis.csv\"\n",
        "play_tennis_target = \"play\"\n",
        "naive_bayes_classifier(play_tennis_file, play_tennis_target, is_categorical=True)\n"
      ],
      "metadata": {
        "colab": {
          "base_uri": "https://localhost:8080/"
        },
        "id": "fthlWbqGq2Nd",
        "outputId": "99cca91c-c32c-476f-e6ac-5ecedd16443d"
      },
      "execution_count": 19,
      "outputs": [
        {
          "output_type": "stream",
          "name": "stdout",
          "text": [
            "Play Tennis Dataset:\n",
            "Confusion Matrix:\n",
            "[[1 1]\n",
            " [1 2]]\n",
            "Accuracy: 0.60\n",
            "Precision: 0.67\n",
            "Recall: 0.67\n",
            "F1 Score: 0.67\n"
          ]
        },
        {
          "output_type": "execute_result",
          "data": {
            "text/plain": [
              "(GaussianNB(),\n",
              " {'day': LabelEncoder(),\n",
              "  'outlook': LabelEncoder(),\n",
              "  'temp': LabelEncoder(),\n",
              "  'humidity': LabelEncoder(),\n",
              "  'wind': LabelEncoder(),\n",
              "  'play': LabelEncoder()})"
            ]
          },
          "metadata": {},
          "execution_count": 19
        }
      ]
    },
    {
      "cell_type": "code",
      "source": [
        "import pandas as pd\n",
        "from sklearn.model_selection import train_test_split\n",
        "from sklearn.naive_bayes import GaussianNB\n",
        "from sklearn.metrics import confusion_matrix, accuracy_score, precision_score, recall_score, f1_score\n",
        "from sklearn.preprocessing import LabelEncoder\n",
        "\n",
        "def naive_bayes_classifier(file_path, target_column, is_categorical=False):\n",
        "    # Load the dataset\n",
        "    data = pd.read_csv(file_path)\n",
        "\n",
        "    # Encode categorical data if necessary\n",
        "    label_encoders = {}\n",
        "    if is_categorical:\n",
        "        for column in data.columns:\n",
        "            if data[column].dtype == 'object' or column == target_column:\n",
        "                le = LabelEncoder()\n",
        "                data[column] = le.fit_transform(data[column])\n",
        "                label_encoders[column] = le\n",
        "\n",
        "    # Split dataset into features and target\n",
        "    X = data.drop(columns=[target_column])\n",
        "    y = data[target_column]\n",
        "\n",
        "    # Train-test split\n",
        "    X_train, X_test, y_train, y_test = train_test_split(X, y, test_size=0.3, random_state=42)\n",
        "\n",
        "    # Train the Naive Bayes model\n",
        "    model = GaussianNB()\n",
        "    model.fit(X_train, y_train)\n",
        "\n",
        "    # Make predictions\n",
        "    y_pred = model.predict(X_test)\n",
        "\n",
        "    # Calculate metrics\n",
        "    accuracy = accuracy_score(y_test, y_pred)\n",
        "    precision = precision_score(y_test, y_pred, average='binary')\n",
        "    recall = recall_score(y_test, y_pred, average='binary')\n",
        "    f1 = f1_score(y_test, y_pred, average='binary')\n",
        "    cm = confusion_matrix(y_test, y_pred)\n",
        "\n",
        "    # Print the results\n",
        "    print(f\"Confusion Matrix:\\n{cm}\")\n",
        "    print(f\"Accuracy: {accuracy:.2f}\")\n",
        "    print(f\"Precision: {precision:.2f}\")\n",
        "    print(f\"Recall: {recall:.2f}\")\n",
        "    print(f\"F1 Score: {f1:.2f}\")\n",
        "\n",
        "    return model, label_encoders\n",
        "\n",
        "# Breast Cancer Dataset\n",
        "print(\"Breast Cancer Dataset:\")\n",
        "breast_cancer_file = \"breast-cancer.csv\"\n",
        "breast_cancer_target = \"diagnosis\"\n",
        "naive_bayes_classifier(breast_cancer_file, breast_cancer_target, is_categorical=True)\n"
      ],
      "metadata": {
        "colab": {
          "base_uri": "https://localhost:8080/"
        },
        "id": "oHk2TEnirARs",
        "outputId": "b65afe3f-357d-4ca4-f0d3-553197b593ef"
      },
      "execution_count": 20,
      "outputs": [
        {
          "output_type": "stream",
          "name": "stdout",
          "text": [
            "Breast Cancer Dataset:\n",
            "Confusion Matrix:\n",
            "[[107   1]\n",
            " [ 61   2]]\n",
            "Accuracy: 0.64\n",
            "Precision: 0.67\n",
            "Recall: 0.03\n",
            "F1 Score: 0.06\n"
          ]
        },
        {
          "output_type": "execute_result",
          "data": {
            "text/plain": [
              "(GaussianNB(), {'diagnosis': LabelEncoder()})"
            ]
          },
          "metadata": {},
          "execution_count": 20
        }
      ]
    },
    {
      "cell_type": "code",
      "source": [
        "import seaborn as sns\n",
        "import matplotlib.pyplot as plt\n",
        "from sklearn.metrics import confusion_matrix\n",
        "\n",
        "def plot_confusion_matrix(cm, class_names, title='Confusion Matrix'):\n",
        "    plt.figure(figsize=(6, 5))\n",
        "    sns.heatmap(cm, annot=True, fmt=\"d\", cmap=\"Blues\", xticklabels=class_names, yticklabels=class_names, cbar=False)\n",
        "    plt.title(title)\n",
        "    plt.xlabel('Predicted')\n",
        "    plt.ylabel('Actual')\n",
        "    plt.show()\n",
        "\n",
        "\n",
        "cm_play_tennis = [[1, 1], [1, 2]]\n",
        "class_names_play_tennis = ['No', 'Yes']\n",
        "\n",
        "# Plot confusion matrix for Play Tennis dataset\n",
        "plot_confusion_matrix(cm_play_tennis, class_names_play_tennis, title=\"Play Tennis Dataset Confusion Matrix\")\n"
      ],
      "metadata": {
        "colab": {
          "base_uri": "https://localhost:8080/",
          "height": 487
        },
        "id": "F5JjcLB6rt6j",
        "outputId": "1dfda2b1-32ec-4407-cb15-d542e28f2165"
      },
      "execution_count": 21,
      "outputs": [
        {
          "output_type": "display_data",
          "data": {
            "text/plain": [
              "<Figure size 600x500 with 1 Axes>"
            ],
            "image/png": "[encoded data removed]"
          },
          "metadata": {}
        }
      ]
    },
    {
      "cell_type": "code",
      "source": [
        "import seaborn as sns\n",
        "import matplotlib.pyplot as plt\n",
        "from sklearn.metrics import confusion_matrix\n",
        "\n",
        "def plot_confusion_matrix(cm, class_names, title='Confusion Matrix'):\n",
        "    plt.figure(figsize=(6, 5))\n",
        "    sns.heatmap(cm, annot=True, fmt=\"d\", cmap=\"Blues\", xticklabels=class_names, yticklabels=class_names, cbar=False)\n",
        "    plt.title(title)\n",
        "    plt.xlabel('Predicted')\n",
        "    plt.ylabel('Actual')\n",
        "    plt.show()\n",
        "\n",
        "\n",
        "cm_breast_cancer = [[107,1], [61, 2]]\n",
        "class_names_breast_cancer = ['Malignant', 'Benign']\n",
        "\n",
        "# Plot confusion matrix for Breast Cancer dataset\n",
        "plot_confusion_matrix(cm_breast_cancer, class_names_breast_cancer, title=\"Breast Cancer Dataset Confusion Matrix\")\n"
      ],
      "metadata": {
        "colab": {
          "base_uri": "https://localhost:8080/",
          "height": 487
        },
        "id": "DMUjWH1YsexX",
        "outputId": "74e38894-69b5-45e7-f4f5-0f8bab7e875e"
      },
      "execution_count": 22,
      "outputs": [
        {
          "output_type": "display_data",
          "data": {
            "text/plain": [
              "<Figure size 600x500 with 1 Axes>"
            ],
            "image/png": "[encoded data removed]"
          },
          "metadata": {}
        }
      ]
    }
  ]
}